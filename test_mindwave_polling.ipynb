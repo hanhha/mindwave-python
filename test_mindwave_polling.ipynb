{
 "cells": [
  {
   "cell_type": "markdown",
   "metadata": {},
   "source": [
    "# Prepare stuffs to show meditation and attention levels\n",
    "* matplotlib to show signals in graph\n",
    "* tqdm for progress bars to show attetion and meditation levels as gauges \n",
    "_(Note that we should use tqdm.notebook instead of tqdm to avoid new line in Jupyter notebook.)_"
   ]
  },
  {
   "cell_type": "code",
   "execution_count": 1,
   "metadata": {},
   "outputs": [
    {
     "data": {
      "application/vnd.jupyter.widget-view+json": {
       "model_id": "97c90d93cb0442578873724057529bdf",
       "version_major": 2,
       "version_minor": 0
      },
      "text/plain": [
       "Canvas(toolbar=Toolbar(toolitems=[('Home', 'Reset original view', 'home', 'home'), ('Back', 'Back to previous …"
      ]
     },
     "metadata": {},
     "output_type": "display_data"
    },
    {
     "data": {
      "application/vnd.jupyter.widget-view+json": {
       "model_id": "98b19cabc4d8406fbe8733d301b2dfe3",
       "version_major": 2,
       "version_minor": 0
      },
      "text/plain": [
       "HBox(children=(FloatProgress(value=0.0, description='Attention level', style=ProgressStyle(description_width='…"
      ]
     },
     "metadata": {},
     "output_type": "display_data"
    },
    {
     "data": {
      "application/vnd.jupyter.widget-view+json": {
       "model_id": "d6fa3d47b2dc454298eeec82c3f307a8",
       "version_major": 2,
       "version_minor": 0
      },
      "text/plain": [
       "HBox(children=(FloatProgress(value=0.0, description='Meditation level', style=ProgressStyle(description_width=…"
      ]
     },
     "metadata": {},
     "output_type": "display_data"
    }
   ],
   "source": [
    "import matplotlib.pyplot as plt\n",
    "\n",
    "%matplotlib widget\n",
    "plt.rcParams['animation.html'] = 'jshtml'\n",
    "\n",
    "fig = plt.figure()\n",
    "ax1 = fig.add_subplot(111)\n",
    "ax2 = ax1.twinx ()\n",
    "\n",
    "ax1.set_ylabel(\"Attention\")\n",
    "ax2.set_ylabel(\"Meditation\")\n",
    "\n",
    "ax1.set_ylim(0,100)\n",
    "ax2.set_ylim(0,100)\n",
    "\n",
    "fig.show()\n",
    "\n",
    "from tqdm.notebook import tqdm\n",
    "\n",
    "att = tqdm(total=100, desc=\"Attention level\")\n",
    "med = tqdm(total=100, desc=\"Meditation level\")"
   ]
  },
  {
   "cell_type": "markdown",
   "metadata": {},
   "source": [
    "# Check and connect to device"
   ]
  },
  {
   "cell_type": "markdown",
   "metadata": {},
   "source": [
    "### Show available devices\n",
    "The headset normally show here with pattern ttyUSB*. In some case (in my case with Mac OS), it showed ttywch*."
   ]
  },
  {
   "cell_type": "code",
   "execution_count": 2,
   "metadata": {},
   "outputs": [
    {
     "name": "stdout",
     "output_type": "stream",
     "text": [
      "crw-rw---- 1 root dialout 238,  2  2月 25 20:13 /dev/ttyTHS2\n",
      "crw-rw---- 1 root dialout   4, 65  2月 25 20:13 /dev/ttyS1\n",
      "crw-rw---- 1 root dialout   4, 67  2月 25 20:13 /dev/ttyS3\n",
      "crw-rw---- 1 root dialout   4, 66  2月 25 20:13 /dev/ttyS2\n",
      "crw-rw---- 1 root dialout 188,  0  2月 25 22:48 /dev/ttyUSB0\n"
     ]
    }
   ],
   "source": [
    "!ls -ltrh /dev/tty* | grep dialout"
   ]
  },
  {
   "cell_type": "markdown",
   "metadata": {},
   "source": [
    "### Replace device and headset id\n",
    "Replace device seen above and headset id. The headset id should be see the battery box."
   ]
  },
  {
   "cell_type": "code",
   "execution_count": 3,
   "metadata": {},
   "outputs": [],
   "source": [
    "import mindwave, time"
   ]
  },
  {
   "cell_type": "code",
   "execution_count": 4,
   "metadata": {},
   "outputs": [],
   "source": [
    "headset = mindwave.Headset('/dev/ttyUSB0', '8C69')\n",
    "time.sleep(2)"
   ]
  },
  {
   "cell_type": "markdown",
   "metadata": {},
   "source": [
    "### Connect to the headset\n",
    "After connecting, the led on the headset should change to blue color."
   ]
  },
  {
   "cell_type": "code",
   "execution_count": 5,
   "metadata": {},
   "outputs": [
    {
     "name": "stdout",
     "output_type": "stream",
     "text": [
      "Connecting...\n",
      "Connected.\n"
     ]
    }
   ],
   "source": [
    "headset.connect()\n",
    "print (\"Connecting...\")\n",
    "\n",
    "while headset.status != 'connected':\n",
    "    time.sleep(0.5)\n",
    "    if headset.status == 'standby':\n",
    "        headset.connect()\n",
    "        print (\"Retrying connect...\")\n",
    "print (\"Connected.\")"
   ]
  },
  {
   "cell_type": "markdown",
   "metadata": {},
   "source": [
    "## Process data"
   ]
  },
  {
   "cell_type": "code",
   "execution_count": null,
   "metadata": {},
   "outputs": [],
   "source": [
    "i = 0\n",
    "\n",
    "x, y_a, y_m = [], [], []\n",
    "\n",
    "try:\n",
    "    while True:\n",
    "        attention = headset.attention\n",
    "        meditation = headset.meditation\n",
    "        \n",
    "        # Update graphs\n",
    "        x.append (i)\n",
    "        y_a.append(attention)\n",
    "        y_m.append(meditation)\n",
    "        ax1.plot(x, y_a, color='r')\n",
    "        ax2.plot(x, y_m, color='g')\n",
    "        fig.canvas.draw()\n",
    "        ax1.set_xlim(left=max(0, i-50), right=i+50)\n",
    "        i += 1\n",
    "        \n",
    "        # Update progress bars\n",
    "        med.update (meditation)\n",
    "        att.update (attention)\n",
    "        med.refresh ()\n",
    "        att.refresh ()\n",
    "        med.update (-meditation)\n",
    "        att.update (-attention)\n",
    "        \n",
    "        time.sleep(.2)\n",
    "        \n",
    "except KeyboardInterrupt:\n",
    "    pass\n",
    "\n",
    "\n",
    "plt.close (fig)\n",
    "att.close ()\n",
    "med.close ()\n",
    "headset.disconnect()\n",
    "print (\"Cleaned.\")"
   ]
  },
  {
   "cell_type": "code",
   "execution_count": null,
   "metadata": {},
   "outputs": [],
   "source": []
  }
 ],
 "metadata": {
  "kernelspec": {
   "display_name": "Python mindwave",
   "language": "python",
   "name": "mindwave"
  },
  "language_info": {
   "codemirror_mode": {
    "name": "ipython",
    "version": 3
   },
   "file_extension": ".py",
   "mimetype": "text/x-python",
   "name": "python",
   "nbconvert_exporter": "python",
   "pygments_lexer": "ipython3",
   "version": "3.6.9"
  }
 },
 "nbformat": 4,
 "nbformat_minor": 4
}
